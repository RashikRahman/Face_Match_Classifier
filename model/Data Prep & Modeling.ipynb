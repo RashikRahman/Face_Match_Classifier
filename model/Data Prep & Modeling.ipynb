{
 "cells": [
  {
   "cell_type": "code",
   "execution_count": 14,
   "metadata": {},
   "outputs": [],
   "source": [
    "import numpy as np\n",
    "import cv2\n",
    "import matplotlib\n",
    "from matplotlib import pyplot as plt\n",
    "import pywt\n",
    "%matplotlib inline"
   ]
  },
  {
   "cell_type": "markdown",
   "metadata": {},
   "source": [
    "# Data Preprocessing"
   ]
  },
  {
   "cell_type": "code",
   "execution_count": 40,
   "metadata": {},
   "outputs": [],
   "source": [
    "face_cascade = cv2.CascadeClassifier('opencv/haarcascade_frontalface_default.xml')\n",
    "eye_cascade = cv2.CascadeClassifier('opencv/haarcascade_eye.xml')\n"
   ]
  },
  {
   "cell_type": "code",
   "execution_count": 54,
   "metadata": {},
   "outputs": [],
   "source": [
    "def crop_img_2eye(img_path):\n",
    "    img = cv2.imread(img_path)\n",
    "    gray = cv2.cvtColor(img,cv2.COLOR_BGR2GRAY)\n",
    "    faces = face_cascade.detectMultiScale(gray, 1.3, 5)\n",
    "    for (x,y,w,h) in faces:\n",
    "        img = cv2.rectangle(img,(x,y),(x+w,y+h),(255,255,255),2)\n",
    "        roi_gray = gray[y:y+h, x:x+w]\n",
    "        roi_color = img[y:y+h, x:x+w]\n",
    "        eyes = eye_cascade.detectMultiScale(roi_gray)\n",
    "        if len(eyes) >=2:\n",
    "            return roi_color\n",
    "            "
   ]
  },
  {
   "cell_type": "code",
   "execution_count": 55,
   "metadata": {},
   "outputs": [],
   "source": [
    "path_to_data = \"./data/\"\n",
    "path_to_cr_data = \"./data/cropped/\"\n",
    "\n",
    "\n",
    "import os\n",
    "img_dirs = []\n",
    "for entry in os.scandir(path_to_data):\n",
    "    if entry.is_dir():\n",
    "        img_dirs.append(entry.path)"
   ]
  },
  {
   "cell_type": "code",
   "execution_count": 56,
   "metadata": {},
   "outputs": [
    {
     "data": {
      "text/plain": [
       "['./data/Akshay_kumar', './data/cropped', './data/Depika', './data/SRK']"
      ]
     },
     "execution_count": 56,
     "metadata": {},
     "output_type": "execute_result"
    }
   ],
   "source": [
    "img_dirs"
   ]
  },
  {
   "cell_type": "code",
   "execution_count": 58,
   "metadata": {},
   "outputs": [],
   "source": [
    "\n",
    "import shutil\n",
    "if os.path.exists(path_to_cr_data):\n",
    "     shutil.rmtree(path_to_cr_data)\n",
    "os.mkdir(path_to_cr_data)\n",
    "\n"
   ]
  },
  {
   "cell_type": "code",
   "execution_count": 59,
   "metadata": {},
   "outputs": [
    {
     "name": "stdout",
     "output_type": "stream",
     "text": [
      "Generating cropped images in folder:  ./data/cropped/Akshay_kumar\n",
      "Generating cropped images in folder:  ./data/cropped/Depika\n",
      "Generating cropped images in folder:  ./data/cropped/SRK\n"
     ]
    }
   ],
   "source": [
    "\n",
    "cropped_image_dirs = []\n",
    "for img_dir in img_dirs:\n",
    "#     print(img_dir)\n",
    "    count = 1\n",
    "    celebrity_name = img_dir.split('/')[-1]\n",
    "    for entry in os.scandir(img_dir):\n",
    "#         print(entry.path)\n",
    "        try:\n",
    "            roi_color = crop_img_2eye(entry.path)\n",
    "        except:\n",
    "            continue\n",
    "        if roi_color is not None:\n",
    "            cropped_folder = path_to_cr_data + celebrity_name\n",
    "            if not os.path.exists(cropped_folder):\n",
    "                os.makedirs(cropped_folder)\n",
    "                cropped_image_dirs.append(cropped_folder)\n",
    "                print(\"Generating cropped images in folder: \",cropped_folder)\n",
    "            cropped_file_name = celebrity_name + str(count) + \".png\"\n",
    "            cropped_file_path = cropped_folder + \"/\" + cropped_file_name\n",
    "            cv2.imwrite(cropped_file_path, roi_color)\n",
    "            count += 1"
   ]
  },
  {
   "cell_type": "code",
   "execution_count": 60,
   "metadata": {
    "collapsed": true,
    "jupyter": {
     "outputs_hidden": true
    }
   },
   "outputs": [
    {
     "data": {
      "text/plain": [
       "{'Akshay_kumar': ['./data/cropped/Akshay_kumar\\\\Akshay_kumar1.png',\n",
       "  './data/cropped/Akshay_kumar\\\\Akshay_kumar10.png',\n",
       "  './data/cropped/Akshay_kumar\\\\Akshay_kumar11.png',\n",
       "  './data/cropped/Akshay_kumar\\\\Akshay_kumar12.png',\n",
       "  './data/cropped/Akshay_kumar\\\\Akshay_kumar13.png',\n",
       "  './data/cropped/Akshay_kumar\\\\Akshay_kumar14.png',\n",
       "  './data/cropped/Akshay_kumar\\\\Akshay_kumar15.png',\n",
       "  './data/cropped/Akshay_kumar\\\\Akshay_kumar16.png',\n",
       "  './data/cropped/Akshay_kumar\\\\Akshay_kumar17.png',\n",
       "  './data/cropped/Akshay_kumar\\\\Akshay_kumar18.png',\n",
       "  './data/cropped/Akshay_kumar\\\\Akshay_kumar19.png',\n",
       "  './data/cropped/Akshay_kumar\\\\Akshay_kumar2.png',\n",
       "  './data/cropped/Akshay_kumar\\\\Akshay_kumar20.png',\n",
       "  './data/cropped/Akshay_kumar\\\\Akshay_kumar21.png',\n",
       "  './data/cropped/Akshay_kumar\\\\Akshay_kumar22.png',\n",
       "  './data/cropped/Akshay_kumar\\\\Akshay_kumar23.png',\n",
       "  './data/cropped/Akshay_kumar\\\\Akshay_kumar24.png',\n",
       "  './data/cropped/Akshay_kumar\\\\Akshay_kumar25.png',\n",
       "  './data/cropped/Akshay_kumar\\\\Akshay_kumar26.png',\n",
       "  './data/cropped/Akshay_kumar\\\\Akshay_kumar27.png',\n",
       "  './data/cropped/Akshay_kumar\\\\Akshay_kumar28.png',\n",
       "  './data/cropped/Akshay_kumar\\\\Akshay_kumar29.png',\n",
       "  './data/cropped/Akshay_kumar\\\\Akshay_kumar3.png',\n",
       "  './data/cropped/Akshay_kumar\\\\Akshay_kumar30.png',\n",
       "  './data/cropped/Akshay_kumar\\\\Akshay_kumar31.png',\n",
       "  './data/cropped/Akshay_kumar\\\\Akshay_kumar32.png',\n",
       "  './data/cropped/Akshay_kumar\\\\Akshay_kumar33.png',\n",
       "  './data/cropped/Akshay_kumar\\\\Akshay_kumar34.png',\n",
       "  './data/cropped/Akshay_kumar\\\\Akshay_kumar35.png',\n",
       "  './data/cropped/Akshay_kumar\\\\Akshay_kumar36.png',\n",
       "  './data/cropped/Akshay_kumar\\\\Akshay_kumar37.png',\n",
       "  './data/cropped/Akshay_kumar\\\\Akshay_kumar38.png',\n",
       "  './data/cropped/Akshay_kumar\\\\Akshay_kumar39.png',\n",
       "  './data/cropped/Akshay_kumar\\\\Akshay_kumar4.png',\n",
       "  './data/cropped/Akshay_kumar\\\\Akshay_kumar40.png',\n",
       "  './data/cropped/Akshay_kumar\\\\Akshay_kumar41.png',\n",
       "  './data/cropped/Akshay_kumar\\\\Akshay_kumar42.png',\n",
       "  './data/cropped/Akshay_kumar\\\\Akshay_kumar43.png',\n",
       "  './data/cropped/Akshay_kumar\\\\Akshay_kumar44.png',\n",
       "  './data/cropped/Akshay_kumar\\\\Akshay_kumar45.png',\n",
       "  './data/cropped/Akshay_kumar\\\\Akshay_kumar46.png',\n",
       "  './data/cropped/Akshay_kumar\\\\Akshay_kumar47.png',\n",
       "  './data/cropped/Akshay_kumar\\\\Akshay_kumar48.png',\n",
       "  './data/cropped/Akshay_kumar\\\\Akshay_kumar49.png',\n",
       "  './data/cropped/Akshay_kumar\\\\Akshay_kumar5.png',\n",
       "  './data/cropped/Akshay_kumar\\\\Akshay_kumar50.png',\n",
       "  './data/cropped/Akshay_kumar\\\\Akshay_kumar51.png',\n",
       "  './data/cropped/Akshay_kumar\\\\Akshay_kumar52.png',\n",
       "  './data/cropped/Akshay_kumar\\\\Akshay_kumar53.png',\n",
       "  './data/cropped/Akshay_kumar\\\\Akshay_kumar54.png',\n",
       "  './data/cropped/Akshay_kumar\\\\Akshay_kumar55.png',\n",
       "  './data/cropped/Akshay_kumar\\\\Akshay_kumar56.png',\n",
       "  './data/cropped/Akshay_kumar\\\\Akshay_kumar57.png',\n",
       "  './data/cropped/Akshay_kumar\\\\Akshay_kumar58.png',\n",
       "  './data/cropped/Akshay_kumar\\\\Akshay_kumar59.png',\n",
       "  './data/cropped/Akshay_kumar\\\\Akshay_kumar6.png',\n",
       "  './data/cropped/Akshay_kumar\\\\Akshay_kumar60.png',\n",
       "  './data/cropped/Akshay_kumar\\\\Akshay_kumar61.png',\n",
       "  './data/cropped/Akshay_kumar\\\\Akshay_kumar62.png',\n",
       "  './data/cropped/Akshay_kumar\\\\Akshay_kumar63.png',\n",
       "  './data/cropped/Akshay_kumar\\\\Akshay_kumar64.png',\n",
       "  './data/cropped/Akshay_kumar\\\\Akshay_kumar65.png',\n",
       "  './data/cropped/Akshay_kumar\\\\Akshay_kumar7.png',\n",
       "  './data/cropped/Akshay_kumar\\\\Akshay_kumar8.png',\n",
       "  './data/cropped/Akshay_kumar\\\\Akshay_kumar9.png'],\n",
       " 'Depika': ['./data/cropped/Depika\\\\Depika1.png',\n",
       "  './data/cropped/Depika\\\\Depika10.png',\n",
       "  './data/cropped/Depika\\\\Depika11.png',\n",
       "  './data/cropped/Depika\\\\Depika12.png',\n",
       "  './data/cropped/Depika\\\\Depika13.png',\n",
       "  './data/cropped/Depika\\\\Depika14.png',\n",
       "  './data/cropped/Depika\\\\Depika15.png',\n",
       "  './data/cropped/Depika\\\\Depika16.png',\n",
       "  './data/cropped/Depika\\\\Depika17.png',\n",
       "  './data/cropped/Depika\\\\Depika18.png',\n",
       "  './data/cropped/Depika\\\\Depika19.png',\n",
       "  './data/cropped/Depika\\\\Depika2.png',\n",
       "  './data/cropped/Depika\\\\Depika20.png',\n",
       "  './data/cropped/Depika\\\\Depika21.png',\n",
       "  './data/cropped/Depika\\\\Depika22.png',\n",
       "  './data/cropped/Depika\\\\Depika23.png',\n",
       "  './data/cropped/Depika\\\\Depika24.png',\n",
       "  './data/cropped/Depika\\\\Depika25.png',\n",
       "  './data/cropped/Depika\\\\Depika26.png',\n",
       "  './data/cropped/Depika\\\\Depika27.png',\n",
       "  './data/cropped/Depika\\\\Depika28.png',\n",
       "  './data/cropped/Depika\\\\Depika29.png',\n",
       "  './data/cropped/Depika\\\\Depika3.png',\n",
       "  './data/cropped/Depika\\\\Depika30.png',\n",
       "  './data/cropped/Depika\\\\Depika31.png',\n",
       "  './data/cropped/Depika\\\\Depika32.png',\n",
       "  './data/cropped/Depika\\\\Depika33.png',\n",
       "  './data/cropped/Depika\\\\Depika34.png',\n",
       "  './data/cropped/Depika\\\\Depika35.png',\n",
       "  './data/cropped/Depika\\\\Depika36.png',\n",
       "  './data/cropped/Depika\\\\Depika37.png',\n",
       "  './data/cropped/Depika\\\\Depika38.png',\n",
       "  './data/cropped/Depika\\\\Depika39.png',\n",
       "  './data/cropped/Depika\\\\Depika4.png',\n",
       "  './data/cropped/Depika\\\\Depika40.png',\n",
       "  './data/cropped/Depika\\\\Depika41.png',\n",
       "  './data/cropped/Depika\\\\Depika42.png',\n",
       "  './data/cropped/Depika\\\\Depika43.png',\n",
       "  './data/cropped/Depika\\\\Depika44.png',\n",
       "  './data/cropped/Depika\\\\Depika45.png',\n",
       "  './data/cropped/Depika\\\\Depika46.png',\n",
       "  './data/cropped/Depika\\\\Depika47.png',\n",
       "  './data/cropped/Depika\\\\Depika48.png',\n",
       "  './data/cropped/Depika\\\\Depika49.png',\n",
       "  './data/cropped/Depika\\\\Depika5.png',\n",
       "  './data/cropped/Depika\\\\Depika50.png',\n",
       "  './data/cropped/Depika\\\\Depika51.png',\n",
       "  './data/cropped/Depika\\\\Depika52.png',\n",
       "  './data/cropped/Depika\\\\Depika53.png',\n",
       "  './data/cropped/Depika\\\\Depika54.png',\n",
       "  './data/cropped/Depika\\\\Depika55.png',\n",
       "  './data/cropped/Depika\\\\Depika56.png',\n",
       "  './data/cropped/Depika\\\\Depika57.png',\n",
       "  './data/cropped/Depika\\\\Depika58.png',\n",
       "  './data/cropped/Depika\\\\Depika59.png',\n",
       "  './data/cropped/Depika\\\\Depika6.png',\n",
       "  './data/cropped/Depika\\\\Depika60.png',\n",
       "  './data/cropped/Depika\\\\Depika61.png',\n",
       "  './data/cropped/Depika\\\\Depika62.png',\n",
       "  './data/cropped/Depika\\\\Depika63.png',\n",
       "  './data/cropped/Depika\\\\Depika64.png',\n",
       "  './data/cropped/Depika\\\\Depika65.png',\n",
       "  './data/cropped/Depika\\\\Depika66.png',\n",
       "  './data/cropped/Depika\\\\Depika67.png',\n",
       "  './data/cropped/Depika\\\\Depika68.png',\n",
       "  './data/cropped/Depika\\\\Depika69.png',\n",
       "  './data/cropped/Depika\\\\Depika7.png',\n",
       "  './data/cropped/Depika\\\\Depika70.png',\n",
       "  './data/cropped/Depika\\\\Depika71.png',\n",
       "  './data/cropped/Depika\\\\Depika72.png',\n",
       "  './data/cropped/Depika\\\\Depika73.png',\n",
       "  './data/cropped/Depika\\\\Depika74.png',\n",
       "  './data/cropped/Depika\\\\Depika75.png',\n",
       "  './data/cropped/Depika\\\\Depika76.png',\n",
       "  './data/cropped/Depika\\\\Depika77.png',\n",
       "  './data/cropped/Depika\\\\Depika78.png',\n",
       "  './data/cropped/Depika\\\\Depika79.png',\n",
       "  './data/cropped/Depika\\\\Depika8.png',\n",
       "  './data/cropped/Depika\\\\Depika80.png',\n",
       "  './data/cropped/Depika\\\\Depika81.png',\n",
       "  './data/cropped/Depika\\\\Depika82.png',\n",
       "  './data/cropped/Depika\\\\Depika83.png',\n",
       "  './data/cropped/Depika\\\\Depika84.png',\n",
       "  './data/cropped/Depika\\\\Depika85.png',\n",
       "  './data/cropped/Depika\\\\Depika86.png',\n",
       "  './data/cropped/Depika\\\\Depika87.png',\n",
       "  './data/cropped/Depika\\\\Depika88.png',\n",
       "  './data/cropped/Depika\\\\Depika89.png',\n",
       "  './data/cropped/Depika\\\\Depika9.png',\n",
       "  './data/cropped/Depika\\\\Depika90.png',\n",
       "  './data/cropped/Depika\\\\Depika91.png',\n",
       "  './data/cropped/Depika\\\\Depika92.png',\n",
       "  './data/cropped/Depika\\\\Depika93.png',\n",
       "  './data/cropped/Depika\\\\Depika94.png'],\n",
       " 'SRK': ['./data/cropped/SRK\\\\SRK1.png',\n",
       "  './data/cropped/SRK\\\\SRK10.png',\n",
       "  './data/cropped/SRK\\\\SRK11.png',\n",
       "  './data/cropped/SRK\\\\SRK12.png',\n",
       "  './data/cropped/SRK\\\\SRK13.png',\n",
       "  './data/cropped/SRK\\\\SRK14.png',\n",
       "  './data/cropped/SRK\\\\SRK15.png',\n",
       "  './data/cropped/SRK\\\\SRK16.png',\n",
       "  './data/cropped/SRK\\\\SRK17.png',\n",
       "  './data/cropped/SRK\\\\SRK18.png',\n",
       "  './data/cropped/SRK\\\\SRK19.png',\n",
       "  './data/cropped/SRK\\\\SRK2.png',\n",
       "  './data/cropped/SRK\\\\SRK20.png',\n",
       "  './data/cropped/SRK\\\\SRK21.png',\n",
       "  './data/cropped/SRK\\\\SRK22.png',\n",
       "  './data/cropped/SRK\\\\SRK23.png',\n",
       "  './data/cropped/SRK\\\\SRK24.png',\n",
       "  './data/cropped/SRK\\\\SRK25.png',\n",
       "  './data/cropped/SRK\\\\SRK26.png',\n",
       "  './data/cropped/SRK\\\\SRK27.png',\n",
       "  './data/cropped/SRK\\\\SRK28.png',\n",
       "  './data/cropped/SRK\\\\SRK29.png',\n",
       "  './data/cropped/SRK\\\\SRK3.png',\n",
       "  './data/cropped/SRK\\\\SRK30.png',\n",
       "  './data/cropped/SRK\\\\SRK31.png',\n",
       "  './data/cropped/SRK\\\\SRK32.png',\n",
       "  './data/cropped/SRK\\\\SRK33.png',\n",
       "  './data/cropped/SRK\\\\SRK34.png',\n",
       "  './data/cropped/SRK\\\\SRK35.png',\n",
       "  './data/cropped/SRK\\\\SRK36.png',\n",
       "  './data/cropped/SRK\\\\SRK37.png',\n",
       "  './data/cropped/SRK\\\\SRK38.png',\n",
       "  './data/cropped/SRK\\\\SRK39.png',\n",
       "  './data/cropped/SRK\\\\SRK4.png',\n",
       "  './data/cropped/SRK\\\\SRK40.png',\n",
       "  './data/cropped/SRK\\\\SRK41.png',\n",
       "  './data/cropped/SRK\\\\SRK42.png',\n",
       "  './data/cropped/SRK\\\\SRK43.png',\n",
       "  './data/cropped/SRK\\\\SRK44.png',\n",
       "  './data/cropped/SRK\\\\SRK45.png',\n",
       "  './data/cropped/SRK\\\\SRK46.png',\n",
       "  './data/cropped/SRK\\\\SRK47.png',\n",
       "  './data/cropped/SRK\\\\SRK48.png',\n",
       "  './data/cropped/SRK\\\\SRK49.png',\n",
       "  './data/cropped/SRK\\\\SRK5.png',\n",
       "  './data/cropped/SRK\\\\SRK50.png',\n",
       "  './data/cropped/SRK\\\\SRK51.png',\n",
       "  './data/cropped/SRK\\\\SRK52.png',\n",
       "  './data/cropped/SRK\\\\SRK53.png',\n",
       "  './data/cropped/SRK\\\\SRK54.png',\n",
       "  './data/cropped/SRK\\\\SRK55.png',\n",
       "  './data/cropped/SRK\\\\SRK56.png',\n",
       "  './data/cropped/SRK\\\\SRK57.png',\n",
       "  './data/cropped/SRK\\\\SRK58.png',\n",
       "  './data/cropped/SRK\\\\SRK59.png',\n",
       "  './data/cropped/SRK\\\\SRK6.png',\n",
       "  './data/cropped/SRK\\\\SRK60.png',\n",
       "  './data/cropped/SRK\\\\SRK61.png',\n",
       "  './data/cropped/SRK\\\\SRK62.png',\n",
       "  './data/cropped/SRK\\\\SRK63.png',\n",
       "  './data/cropped/SRK\\\\SRK64.png',\n",
       "  './data/cropped/SRK\\\\SRK65.png',\n",
       "  './data/cropped/SRK\\\\SRK66.png',\n",
       "  './data/cropped/SRK\\\\SRK67.png',\n",
       "  './data/cropped/SRK\\\\SRK68.png',\n",
       "  './data/cropped/SRK\\\\SRK69.png',\n",
       "  './data/cropped/SRK\\\\SRK7.png',\n",
       "  './data/cropped/SRK\\\\SRK70.png',\n",
       "  './data/cropped/SRK\\\\SRK71.png',\n",
       "  './data/cropped/SRK\\\\SRK72.png',\n",
       "  './data/cropped/SRK\\\\SRK73.png',\n",
       "  './data/cropped/SRK\\\\SRK74.png',\n",
       "  './data/cropped/SRK\\\\SRK75.png',\n",
       "  './data/cropped/SRK\\\\SRK76.png',\n",
       "  './data/cropped/SRK\\\\SRK77.png',\n",
       "  './data/cropped/SRK\\\\SRK78.png',\n",
       "  './data/cropped/SRK\\\\SRK79.png',\n",
       "  './data/cropped/SRK\\\\SRK8.png',\n",
       "  './data/cropped/SRK\\\\SRK80.png',\n",
       "  './data/cropped/SRK\\\\SRK81.png',\n",
       "  './data/cropped/SRK\\\\SRK82.png',\n",
       "  './data/cropped/SRK\\\\SRK9.png']}"
      ]
     },
     "execution_count": 60,
     "metadata": {},
     "output_type": "execute_result"
    }
   ],
   "source": [
    "celebrity_file_names_dict = {}\n",
    "for img_dir in cropped_image_dirs:\n",
    "    celebrity_name = img_dir.split('/')[-1]\n",
    "    file_list = []\n",
    "    for entry in os.scandir(img_dir):\n",
    "        file_list.append(entry.path)\n",
    "    celebrity_file_names_dict[celebrity_name] = file_list\n",
    "celebrity_file_names_dict"
   ]
  },
  {
   "cell_type": "code",
   "execution_count": 61,
   "metadata": {},
   "outputs": [
    {
     "data": {
      "text/plain": [
       "{'Akshay_kumar': 0, 'Depika': 1, 'SRK': 2}"
      ]
     },
     "execution_count": 61,
     "metadata": {},
     "output_type": "execute_result"
    }
   ],
   "source": [
    "class_dict = {}\n",
    "count = 0\n",
    "for celebrity_name in celebrity_file_names_dict.keys():\n",
    "    class_dict[celebrity_name] = count\n",
    "    count = count + 1\n",
    "class_dict"
   ]
  },
  {
   "cell_type": "code",
   "execution_count": 62,
   "metadata": {},
   "outputs": [],
   "source": [
    "\n",
    "import numpy as np\n",
    "import pywt\n",
    "import cv2    \n",
    "\n",
    "def w2d(img, mode='haar', level=1):\n",
    "    imArray = img\n",
    "\n",
    "    imArray = cv2.cvtColor( imArray,cv2.COLOR_RGB2GRAY )\n",
    "    #convert to float\n",
    "    imArray =  np.float32(imArray)   \n",
    "    imArray /= 255;\n",
    "\n",
    "    coeffs=pywt.wavedec2(imArray, mode, level=level)\n",
    "\n",
    "\n",
    "    coeffs_H=list(coeffs)  \n",
    "    coeffs_H[0] *= 0;  \n",
    "\n",
    "    imArray_H=pywt.waverec2(coeffs_H, mode);\n",
    "    imArray_H *= 255;\n",
    "    imArray_H =  np.uint8(imArray_H)\n",
    "\n",
    "    return imArray_H"
   ]
  },
  {
   "cell_type": "code",
   "execution_count": 63,
   "metadata": {},
   "outputs": [],
   "source": [
    "X, y = [], []\n",
    "for celebrity_name, training_files in celebrity_file_names_dict.items():\n",
    "    for training_image in training_files:\n",
    "        img = cv2.imread(training_image)\n",
    "        scalled_raw_img = cv2.resize(img, (32, 32))\n",
    "        img_har = w2d(img,'db1',5)\n",
    "        scalled_img_har = cv2.resize(img_har, (32, 32))\n",
    "        combined_img = np.vstack((scalled_raw_img.reshape(32*32*3,1),scalled_img_har.reshape(32*32,1)))\n",
    "        X.append(combined_img)\n",
    "        y.append(class_dict[celebrity_name])"
   ]
  },
  {
   "cell_type": "code",
   "execution_count": 64,
   "metadata": {},
   "outputs": [
    {
     "data": {
      "text/plain": [
       "(241, 4096)"
      ]
     },
     "execution_count": 64,
     "metadata": {},
     "output_type": "execute_result"
    }
   ],
   "source": [
    "X = np.array(X).reshape(len(X),4096).astype(float)\n",
    "X.shape"
   ]
  },
  {
   "cell_type": "code",
   "execution_count": 65,
   "metadata": {},
   "outputs": [
    {
     "data": {
      "text/plain": [
       "Counter({0: 65, 1: 94, 2: 82})"
      ]
     },
     "execution_count": 65,
     "metadata": {},
     "output_type": "execute_result"
    }
   ],
   "source": [
    "from collections import Counter\n",
    "Counter(y)"
   ]
  },
  {
   "cell_type": "code",
   "execution_count": 183,
   "metadata": {},
   "outputs": [],
   "source": [
    "X = StandardScaler().fit(X).transform(X)"
   ]
  },
  {
   "cell_type": "code",
   "execution_count": 358,
   "metadata": {},
   "outputs": [],
   "source": [
    "from sklearn.model_selection import train_test_split\n",
    "\n",
    "X_train, X_test, y_train, y_test = train_test_split(X,y, test_size=0.2, random_state=10)\n"
   ]
  },
  {
   "cell_type": "markdown",
   "metadata": {},
   "source": [
    "# Modeling"
   ]
  },
  {
   "cell_type": "code",
   "execution_count": 185,
   "metadata": {},
   "outputs": [],
   "source": [
    "\n",
    "from sklearn.naive_bayes import GaussianNB\n",
    "\n",
    "from sklearn.ensemble import RandomForestClassifier, AdaBoostClassifier\n",
    "from sklearn.tree import DecisionTreeClassifier\n",
    "from sklearn.svm import SVC\n",
    "from sklearn.neighbors import KNeighborsClassifier\n",
    "from sklearn.preprocessing import StandardScaler\n",
    "from sklearn.linear_model import LogisticRegression\n",
    "from sklearn.model_selection import cross_val_score\n",
    "from xgboost import XGBClassifier\n",
    "from sklearn.model_selection import GridSearchCV\n",
    "from sklearn.pipeline import make_pipeline"
   ]
  },
  {
   "cell_type": "markdown",
   "metadata": {},
   "source": [
    "## Hyper Parameter Tunning"
   ]
  },
  {
   "cell_type": "code",
   "execution_count": 371,
   "metadata": {},
   "outputs": [],
   "source": [
    "\n",
    "model_params = {\n",
    "    'SVM': {\n",
    "        'model': SVC(),\n",
    "        'params': {\n",
    "             'C': [1,10,20],\n",
    "             'kernel': ['rbf','linear'],\n",
    "             'gamma': ['auto', 'scale']\n",
    "        }\n",
    "    },\n",
    "    \n",
    "    \n",
    "    'RANDOM_FOREST':{\n",
    "        'model' : RandomForestClassifier(),\n",
    "        'params': {\n",
    "            'n_estimators':[5,10,20,40,50,60,100],\n",
    "            'criterion': ['gini','entropy'],\n",
    "            'max_depth': [None, 2,4],\n",
    "\n",
    "        }\n",
    "    },\n",
    "    \n",
    "    \n",
    "    \n",
    "    'LOGISTIC_REGRESSION': {\n",
    "        'model': LogisticRegression(max_iter=200),\n",
    "        'params': {\n",
    "            'C': [1,5,10],\n",
    "            'solver' : [ 'liblinear', 'lbfgs']\n",
    "        }\n",
    "    },\n",
    "    \n",
    "    \n",
    "    'NAIVE_BAYES': {\n",
    "        'model': GaussianNB(),\n",
    "        'params':{\n",
    "            'priors':[None]\n",
    "        }\n",
    "    },\n",
    "    \n",
    "    'ADABOOST': {\n",
    "        'model': AdaBoostClassifier(),\n",
    "        'params':{\n",
    "            'n_estimators': [5,10,50,70]      \n",
    "        }\n",
    "    },\n",
    "    \n",
    "    \n",
    "    'DecisionTree':{\n",
    "        'model':DecisionTreeClassifier(),\n",
    "        'params': {\n",
    "            'criterion': ['gini','entropy'],\n",
    "            'max_depth': [None,4,7]\n",
    "        }\n",
    "    },\n",
    "    \n",
    "    \n",
    "    'KNN':{\n",
    "        'model':KNeighborsClassifier(),\n",
    "        'params':{\n",
    "            'n_neighbors':[2,4,5,6,7,8,9,10]       \n",
    "        }\n",
    "    },\n",
    "    \n",
    "    \n",
    "    'xgboost':{\n",
    "        'model':XGBClassifier(),\n",
    "        'params':{\n",
    "            'subsample':[0.8],\n",
    "            'n_estimators':[25,50,100,150],\n",
    "            'learning_rate':[0.03,0.05,0.07,0.1,0.2],\n",
    "            'max_depth':[2,3,4,5],\n",
    "            'random_state':[0,5]\n",
    "            \n",
    "            \n",
    "        }\n",
    "    }\n",
    "    \n",
    "}"
   ]
  },
  {
   "cell_type": "code",
   "execution_count": 372,
   "metadata": {},
   "outputs": [],
   "source": [
    "scores=[]\n",
    "best_estimators = {}"
   ]
  },
  {
   "cell_type": "code",
   "execution_count": 373,
   "metadata": {},
   "outputs": [
    {
     "name": "stdout",
     "output_type": "stream",
     "text": [
      "325 ms ± 2.43 ms per loop (mean ± std. dev. of 7 runs, 1 loop each)\n"
     ]
    }
   ],
   "source": [
    "%%timeit\n",
    "\n",
    "\n",
    "for model_name, mp in model_params.items():\n",
    "    clf = GridSearchCV(mp['model'], mp['params'], cv=5, return_train_score=False)\n",
    "    clf.fit(X_train, y_train)\n",
    "    scores.append({\n",
    "        'model': model_name,\n",
    "        'best_score': clf.best_score_,\n",
    "        'best_params': str(clf.best_params_)\n",
    "    })\n",
    "    best_estimators[model_name] = clf.best_estimator_\n"
   ]
  },
  {
   "cell_type": "code",
   "execution_count": 374,
   "metadata": {},
   "outputs": [
    {
     "data": {
      "text/html": [
       "<div>\n",
       "<style scoped>\n",
       "    .dataframe tbody tr th:only-of-type {\n",
       "        vertical-align: middle;\n",
       "    }\n",
       "\n",
       "    .dataframe tbody tr th {\n",
       "        vertical-align: top;\n",
       "    }\n",
       "\n",
       "    .dataframe thead th {\n",
       "        text-align: right;\n",
       "    }\n",
       "</style>\n",
       "<table border=\"1\" class=\"dataframe\">\n",
       "  <thead>\n",
       "    <tr style=\"text-align: right;\">\n",
       "      <th></th>\n",
       "      <th>model</th>\n",
       "      <th>best_score</th>\n",
       "      <th>best_params</th>\n",
       "    </tr>\n",
       "  </thead>\n",
       "  <tbody>\n",
       "    <tr>\n",
       "      <th>0</th>\n",
       "      <td>SVM</td>\n",
       "      <td>0.902857</td>\n",
       "      <td>{'C': 10, 'gamma': 'scale', 'kernel': 'linear'}</td>\n",
       "    </tr>\n",
       "    <tr>\n",
       "      <th>1</th>\n",
       "      <td>SVM</td>\n",
       "      <td>0.902857</td>\n",
       "      <td>{'C': 10, 'gamma': 'scale', 'kernel': 'linear'}</td>\n",
       "    </tr>\n",
       "    <tr>\n",
       "      <th>2</th>\n",
       "      <td>SVM</td>\n",
       "      <td>0.902857</td>\n",
       "      <td>{'C': 10, 'gamma': 'scale', 'kernel': 'linear'}</td>\n",
       "    </tr>\n",
       "    <tr>\n",
       "      <th>3</th>\n",
       "      <td>SVM</td>\n",
       "      <td>0.902857</td>\n",
       "      <td>{'C': 10, 'gamma': 'scale', 'kernel': 'linear'}</td>\n",
       "    </tr>\n",
       "    <tr>\n",
       "      <th>4</th>\n",
       "      <td>SVM</td>\n",
       "      <td>0.902857</td>\n",
       "      <td>{'C': 10, 'gamma': 'scale', 'kernel': 'linear'}</td>\n",
       "    </tr>\n",
       "    <tr>\n",
       "      <th>5</th>\n",
       "      <td>SVM</td>\n",
       "      <td>0.902857</td>\n",
       "      <td>{'C': 10, 'gamma': 'scale', 'kernel': 'linear'}</td>\n",
       "    </tr>\n",
       "    <tr>\n",
       "      <th>6</th>\n",
       "      <td>SVM</td>\n",
       "      <td>0.902857</td>\n",
       "      <td>{'C': 10, 'gamma': 'scale', 'kernel': 'linear'}</td>\n",
       "    </tr>\n",
       "    <tr>\n",
       "      <th>7</th>\n",
       "      <td>SVM</td>\n",
       "      <td>0.902857</td>\n",
       "      <td>{'C': 10, 'gamma': 'scale', 'kernel': 'linear'}</td>\n",
       "    </tr>\n",
       "  </tbody>\n",
       "</table>\n",
       "</div>"
      ],
      "text/plain": [
       "  model  best_score                                      best_params\n",
       "0   SVM    0.902857  {'C': 10, 'gamma': 'scale', 'kernel': 'linear'}\n",
       "1   SVM    0.902857  {'C': 10, 'gamma': 'scale', 'kernel': 'linear'}\n",
       "2   SVM    0.902857  {'C': 10, 'gamma': 'scale', 'kernel': 'linear'}\n",
       "3   SVM    0.902857  {'C': 10, 'gamma': 'scale', 'kernel': 'linear'}\n",
       "4   SVM    0.902857  {'C': 10, 'gamma': 'scale', 'kernel': 'linear'}\n",
       "5   SVM    0.902857  {'C': 10, 'gamma': 'scale', 'kernel': 'linear'}\n",
       "6   SVM    0.902857  {'C': 10, 'gamma': 'scale', 'kernel': 'linear'}\n",
       "7   SVM    0.902857  {'C': 10, 'gamma': 'scale', 'kernel': 'linear'}"
      ]
     },
     "execution_count": 374,
     "metadata": {},
     "output_type": "execute_result"
    }
   ],
   "source": [
    "import pandas as pd    \n",
    "df = pd.DataFrame(scores,columns=['model','best_score','best_params'])\n",
    "df = df.sort_values(by='best_score',ascending=False)\n",
    "df"
   ]
  },
  {
   "cell_type": "code",
   "execution_count": 375,
   "metadata": {},
   "outputs": [
    {
     "data": {
      "text/html": [
       "<div>\n",
       "<style scoped>\n",
       "    .dataframe tbody tr th:only-of-type {\n",
       "        vertical-align: middle;\n",
       "    }\n",
       "\n",
       "    .dataframe tbody tr th {\n",
       "        vertical-align: top;\n",
       "    }\n",
       "\n",
       "    .dataframe thead th {\n",
       "        text-align: right;\n",
       "    }\n",
       "</style>\n",
       "<table border=\"1\" class=\"dataframe\">\n",
       "  <thead>\n",
       "    <tr style=\"text-align: right;\">\n",
       "      <th></th>\n",
       "      <th>model</th>\n",
       "      <th>best_score</th>\n",
       "      <th>best_params</th>\n",
       "    </tr>\n",
       "  </thead>\n",
       "  <tbody>\n",
       "    <tr>\n",
       "      <th>0</th>\n",
       "      <td>SVM</td>\n",
       "      <td>0.902857</td>\n",
       "      <td>{'C': 10, 'gamma': 'scale', 'kernel': 'linear'}</td>\n",
       "    </tr>\n",
       "  </tbody>\n",
       "</table>\n",
       "</div>"
      ],
      "text/plain": [
       "  model  best_score                                      best_params\n",
       "0   SVM    0.902857  {'C': 10, 'gamma': 'scale', 'kernel': 'linear'}"
      ]
     },
     "execution_count": 375,
     "metadata": {},
     "output_type": "execute_result"
    }
   ],
   "source": [
    "df.drop_duplicates()"
   ]
  },
  {
   "cell_type": "markdown",
   "metadata": {},
   "source": [
    " ## Evaluation"
   ]
  },
  {
   "cell_type": "code",
   "execution_count": 260,
   "metadata": {},
   "outputs": [
    {
     "data": {
      "text/plain": [
       "0.9259259259259259"
      ]
     },
     "execution_count": 260,
     "metadata": {},
     "output_type": "execute_result"
    }
   ],
   "source": [
    "best_estimators['SVM'].score(X_test,y_test)"
   ]
  },
  {
   "cell_type": "code",
   "execution_count": 262,
   "metadata": {},
   "outputs": [
    {
     "data": {
      "text/plain": [
       "0.9629629629629629"
      ]
     },
     "execution_count": 262,
     "metadata": {},
     "output_type": "execute_result"
    }
   ],
   "source": [
    "best_estimators['RANDOM_FOREST'].score(X_test,y_test)"
   ]
  },
  {
   "cell_type": "code",
   "execution_count": 263,
   "metadata": {},
   "outputs": [
    {
     "data": {
      "text/plain": [
       "0.9259259259259259"
      ]
     },
     "execution_count": 263,
     "metadata": {},
     "output_type": "execute_result"
    }
   ],
   "source": [
    "best_estimators['LOGISTIC_REGRESSION'].score(X_test,y_test)"
   ]
  },
  {
   "cell_type": "code",
   "execution_count": 264,
   "metadata": {},
   "outputs": [
    {
     "data": {
      "text/plain": [
       "0.7407407407407407"
      ]
     },
     "execution_count": 264,
     "metadata": {},
     "output_type": "execute_result"
    }
   ],
   "source": [
    "best_estimators['NAIVE_BAYES'].score(X_test,y_test)"
   ]
  },
  {
   "cell_type": "code",
   "execution_count": 265,
   "metadata": {},
   "outputs": [
    {
     "data": {
      "text/plain": [
       "0.8518518518518519"
      ]
     },
     "execution_count": 265,
     "metadata": {},
     "output_type": "execute_result"
    }
   ],
   "source": [
    "best_estimators['ADABOOST'].score(X_test,y_test)"
   ]
  },
  {
   "cell_type": "code",
   "execution_count": 266,
   "metadata": {},
   "outputs": [
    {
     "data": {
      "text/plain": [
       "0.8518518518518519"
      ]
     },
     "execution_count": 266,
     "metadata": {},
     "output_type": "execute_result"
    }
   ],
   "source": [
    "best_estimators['DecisionTree'].score(X_test,y_test)"
   ]
  },
  {
   "cell_type": "code",
   "execution_count": 267,
   "metadata": {},
   "outputs": [
    {
     "data": {
      "text/plain": [
       "0.8888888888888888"
      ]
     },
     "execution_count": 267,
     "metadata": {},
     "output_type": "execute_result"
    }
   ],
   "source": [
    "best_estimators['KNN'].score(X_test,y_test)"
   ]
  },
  {
   "cell_type": "code",
   "execution_count": 268,
   "metadata": {},
   "outputs": [
    {
     "data": {
      "text/plain": [
       "0.8888888888888888"
      ]
     },
     "execution_count": 268,
     "metadata": {},
     "output_type": "execute_result"
    }
   ],
   "source": [
    "best_estimators['xgboost'].score(X_test,y_test)"
   ]
  },
  {
   "cell_type": "code",
   "execution_count": 363,
   "metadata": {},
   "outputs": [
    {
     "data": {
      "text/plain": [
       "RandomForestClassifier(bootstrap=True, ccp_alpha=0.0, class_weight=None,\n",
       "                       criterion='entropy', max_depth=4, max_features='auto',\n",
       "                       max_leaf_nodes=None, max_samples=None,\n",
       "                       min_impurity_decrease=0.0, min_impurity_split=None,\n",
       "                       min_samples_leaf=1, min_samples_split=2,\n",
       "                       min_weight_fraction_leaf=0.0, n_estimators=100,\n",
       "                       n_jobs=None, oob_score=False, random_state=None,\n",
       "                       verbose=0, warm_start=False)"
      ]
     },
     "execution_count": 363,
     "metadata": {},
     "output_type": "execute_result"
    }
   ],
   "source": [
    "best_clf = best_estimators['RANDOM_FOREST']\n",
    "best_clf"
   ]
  },
  {
   "cell_type": "code",
   "execution_count": 364,
   "metadata": {},
   "outputs": [
    {
     "name": "stdout",
     "output_type": "stream",
     "text": [
      "              precision    recall  f1-score   support\n",
      "\n",
      "           0       0.95      1.00      0.98        20\n",
      "           1       1.00      0.86      0.92         7\n",
      "\n",
      "    accuracy                           0.96        27\n",
      "   macro avg       0.98      0.93      0.95        27\n",
      "weighted avg       0.96      0.96      0.96        27\n",
      "\n"
     ]
    }
   ],
   "source": [
    "from sklearn.metrics import classification_report\n",
    "print(classification_report(y_test,best_clf.predict(X_test)))"
   ]
  },
  {
   "cell_type": "code",
   "execution_count": 365,
   "metadata": {},
   "outputs": [
    {
     "data": {
      "text/plain": [
       "array([[20,  0],\n",
       "       [ 1,  6]], dtype=int64)"
      ]
     },
     "execution_count": 365,
     "metadata": {},
     "output_type": "execute_result"
    }
   ],
   "source": [
    "from sklearn.metrics import confusion_matrix\n",
    "cm = confusion_matrix(y_test, best_clf.predict(X_test))\n",
    "cm"
   ]
  },
  {
   "cell_type": "code",
   "execution_count": 366,
   "metadata": {},
   "outputs": [
    {
     "data": {
      "text/plain": [
       "Text(69.0, 0.5, 'Truth')"
      ]
     },
     "execution_count": 366,
     "metadata": {},
     "output_type": "execute_result"
    },
    {
     "data": {
      "image/png": "[encoded data removed]",
      "text/plain": [
       "<Figure size 720x504 with 2 Axes>"
      ]
     },
     "metadata": {
      "needs_background": "light"
     },
     "output_type": "display_data"
    }
   ],
   "source": [
    "import seaborn as sns \n",
    "plt.figure(figsize=(10,7))\n",
    "sns.heatmap(cm,annot=True)\n",
    "plt.xlabel('Predicted')\n",
    "plt.ylabel('Truth')"
   ]
  },
  {
   "cell_type": "code",
   "execution_count": 367,
   "metadata": {},
   "outputs": [
    {
     "data": {
      "text/plain": [
       "{'depika': 0, 'srk': 1}"
      ]
     },
     "execution_count": 367,
     "metadata": {},
     "output_type": "execute_result"
    }
   ],
   "source": [
    "class_dict"
   ]
  },
  {
   "cell_type": "markdown",
   "metadata": {},
   "source": [
    "## Save Model"
   ]
  },
  {
   "cell_type": "code",
   "execution_count": 368,
   "metadata": {},
   "outputs": [
    {
     "data": {
      "text/plain": [
       "['saved_model.pkl']"
      ]
     },
     "execution_count": 368,
     "metadata": {},
     "output_type": "execute_result"
    }
   ],
   "source": [
    "import joblib\n",
    "joblib.dump(best_clf, 'saved_model.pkl')"
   ]
  },
  {
   "cell_type": "markdown",
   "metadata": {},
   "source": [
    "## Save Class"
   ]
  },
  {
   "cell_type": "code",
   "execution_count": 370,
   "metadata": {},
   "outputs": [],
   "source": [
    "\n",
    "import json\n",
    "with open(\"class_dictionary.json\",\"w\") as f:\n",
    "    f.write(json.dumps(class_dict))"
   ]
  }
 ],
 "metadata": {
  "kernelspec": {
   "display_name": "Python 3",
   "language": "python",
   "name": "python3"
  },
  "language_info": {
   "codemirror_mode": {
    "name": "ipython",
    "version": 3
   },
   "file_extension": ".py",
   "mimetype": "text/x-python",
   "name": "python",
   "nbconvert_exporter": "python",
   "pygments_lexer": "ipython3",
   "version": "3.7.6"
  }
 },
 "nbformat": 4,
 "nbformat_minor": 4
}
