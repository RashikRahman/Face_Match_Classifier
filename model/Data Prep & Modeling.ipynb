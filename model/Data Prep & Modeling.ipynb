{
 "cells": [
  {
   "cell_type": "code",
   "execution_count": 126,
   "metadata": {},
   "outputs": [],
   "source": [
    "import numpy as np\n",
    "import cv2\n",
    "import matplotlib\n",
    "from matplotlib import pyplot as plt\n",
    "import pywt\n",
    "%matplotlib inline"
   ]
  },
  {
   "cell_type": "markdown",
   "metadata": {},
   "source": [
    "# Data Preprocessing"
   ]
  },
  {
   "cell_type": "code",
   "execution_count": 173,
   "metadata": {},
   "outputs": [],
   "source": [
    "face_cascade = cv2.CascadeClassifier('opencv/haarcascade_frontalface_default.xml')\n",
    "eye_cascade = cv2.CascadeClassifier('opencv/haarcascade_eye.xml')\n"
   ]
  },
  {
   "cell_type": "code",
   "execution_count": 174,
   "metadata": {},
   "outputs": [],
   "source": [
    "def crop_img_2eye(img_path):\n",
    "    img = cv2.imread(img_path)\n",
    "    gray = cv2.cvtColor(img,cv2.COLOR_BGR2GRAY)\n",
    "    faces = face_cascade.detectMultiScale(gray, 1.3, 5)\n",
    "    for (x,y,w,h) in faces:\n",
    "        img = cv2.rectangle(img,(x,y),(x+w,y+h),(255,255,255),2)\n",
    "        roi_gray = gray[y:y+h, x:x+w]\n",
    "        roi_color = img[y:y+h, x:x+w]\n",
    "        eyes = eye_cascade.detectMultiScale(roi_gray)\n",
    "        if len(eyes) >=2:\n",
    "            return roi_color\n",
    "            "
   ]
  },
  {
   "cell_type": "code",
   "execution_count": 175,
   "metadata": {},
   "outputs": [],
   "source": [
    "path_to_data = \"./data/\"\n",
    "path_to_cr_data = \"./data/cropped/\"\n",
    "\n",
    "\n",
    "import os\n",
    "img_dirs = []\n",
    "for entry in os.scandir(path_to_data):\n",
    "    if entry.is_dir():\n",
    "        img_dirs.append(entry.path)"
   ]
  },
  {
   "cell_type": "code",
   "execution_count": 176,
   "metadata": {},
   "outputs": [
    {
     "data": {
      "text/plain": [
       "['./data/lionel_messi',\n",
       " './data/maria_sharapova',\n",
       " './data/roger_federer',\n",
       " './data/serena_williams',\n",
       " './data/virat_kohli']"
      ]
     },
     "execution_count": 176,
     "metadata": {},
     "output_type": "execute_result"
    }
   ],
   "source": [
    "img_dirs"
   ]
  },
  {
   "cell_type": "code",
   "execution_count": 177,
   "metadata": {},
   "outputs": [],
   "source": [
    "\n",
    "import shutil\n",
    "if os.path.exists(path_to_cr_data):\n",
    "     shutil.rmtree(path_to_cr_data)\n",
    "os.mkdir(path_to_cr_data)\n",
    "\n"
   ]
  },
  {
   "cell_type": "code",
   "execution_count": 178,
   "metadata": {},
   "outputs": [
    {
     "name": "stdout",
     "output_type": "stream",
     "text": [
      "Generating cropped images in folder:  ./data/cropped/lionel_messi\n",
      "Generating cropped images in folder:  ./data/cropped/maria_sharapova\n",
      "Generating cropped images in folder:  ./data/cropped/roger_federer\n",
      "Generating cropped images in folder:  ./data/cropped/serena_williams\n",
      "Generating cropped images in folder:  ./data/cropped/virat_kohli\n"
     ]
    }
   ],
   "source": [
    "\n",
    "cropped_image_dirs = []\n",
    "for img_dir in img_dirs:\n",
    "#     print(img_dir)\n",
    "    count = 1\n",
    "    celebrity_name = img_dir.split('/')[-1]\n",
    "    for entry in os.scandir(img_dir):\n",
    "#         print(entry.path)\n",
    "        try:\n",
    "            roi_color = crop_img_2eye(entry.path)\n",
    "        except:\n",
    "            continue\n",
    "        if roi_color is not None:\n",
    "            cropped_folder = path_to_cr_data + celebrity_name\n",
    "            if not os.path.exists(cropped_folder):\n",
    "                os.makedirs(cropped_folder)\n",
    "                cropped_image_dirs.append(cropped_folder)\n",
    "                print(\"Generating cropped images in folder: \",cropped_folder)\n",
    "            cropped_file_name = celebrity_name + str(count) + \".png\"\n",
    "            cropped_file_path = cropped_folder + \"/\" + cropped_file_name\n",
    "            cv2.imwrite(cropped_file_path, roi_color)\n",
    "            count += 1"
   ]
  },
  {
   "cell_type": "code",
   "execution_count": 179,
   "metadata": {
    "collapsed": true,
    "jupyter": {
     "outputs_hidden": true
    }
   },
   "outputs": [
    {
     "data": {
      "text/plain": [
       "{'lionel_messi': ['./data/cropped/lionel_messi\\\\lionel_messi1.png',\n",
       "  './data/cropped/lionel_messi\\\\lionel_messi10.png',\n",
       "  './data/cropped/lionel_messi\\\\lionel_messi11.png',\n",
       "  './data/cropped/lionel_messi\\\\lionel_messi12.png',\n",
       "  './data/cropped/lionel_messi\\\\lionel_messi13.png',\n",
       "  './data/cropped/lionel_messi\\\\lionel_messi14.png',\n",
       "  './data/cropped/lionel_messi\\\\lionel_messi15.png',\n",
       "  './data/cropped/lionel_messi\\\\lionel_messi16.png',\n",
       "  './data/cropped/lionel_messi\\\\lionel_messi17.png',\n",
       "  './data/cropped/lionel_messi\\\\lionel_messi18.png',\n",
       "  './data/cropped/lionel_messi\\\\lionel_messi19.png',\n",
       "  './data/cropped/lionel_messi\\\\lionel_messi2.png',\n",
       "  './data/cropped/lionel_messi\\\\lionel_messi20.png',\n",
       "  './data/cropped/lionel_messi\\\\lionel_messi21.png',\n",
       "  './data/cropped/lionel_messi\\\\lionel_messi22.png',\n",
       "  './data/cropped/lionel_messi\\\\lionel_messi23.png',\n",
       "  './data/cropped/lionel_messi\\\\lionel_messi24.png',\n",
       "  './data/cropped/lionel_messi\\\\lionel_messi25.png',\n",
       "  './data/cropped/lionel_messi\\\\lionel_messi26.png',\n",
       "  './data/cropped/lionel_messi\\\\lionel_messi27.png',\n",
       "  './data/cropped/lionel_messi\\\\lionel_messi28.png',\n",
       "  './data/cropped/lionel_messi\\\\lionel_messi29.png',\n",
       "  './data/cropped/lionel_messi\\\\lionel_messi3.png',\n",
       "  './data/cropped/lionel_messi\\\\lionel_messi30.png',\n",
       "  './data/cropped/lionel_messi\\\\lionel_messi31.png',\n",
       "  './data/cropped/lionel_messi\\\\lionel_messi32.png',\n",
       "  './data/cropped/lionel_messi\\\\lionel_messi33.png',\n",
       "  './data/cropped/lionel_messi\\\\lionel_messi34.png',\n",
       "  './data/cropped/lionel_messi\\\\lionel_messi35.png',\n",
       "  './data/cropped/lionel_messi\\\\lionel_messi36.png',\n",
       "  './data/cropped/lionel_messi\\\\lionel_messi37.png',\n",
       "  './data/cropped/lionel_messi\\\\lionel_messi38.png',\n",
       "  './data/cropped/lionel_messi\\\\lionel_messi39.png',\n",
       "  './data/cropped/lionel_messi\\\\lionel_messi4.png',\n",
       "  './data/cropped/lionel_messi\\\\lionel_messi5.png',\n",
       "  './data/cropped/lionel_messi\\\\lionel_messi6.png',\n",
       "  './data/cropped/lionel_messi\\\\lionel_messi7.png',\n",
       "  './data/cropped/lionel_messi\\\\lionel_messi8.png',\n",
       "  './data/cropped/lionel_messi\\\\lionel_messi9.png'],\n",
       " 'maria_sharapova': ['./data/cropped/maria_sharapova\\\\maria_sharapova1.png',\n",
       "  './data/cropped/maria_sharapova\\\\maria_sharapova10.png',\n",
       "  './data/cropped/maria_sharapova\\\\maria_sharapova11.png',\n",
       "  './data/cropped/maria_sharapova\\\\maria_sharapova12.png',\n",
       "  './data/cropped/maria_sharapova\\\\maria_sharapova13.png',\n",
       "  './data/cropped/maria_sharapova\\\\maria_sharapova14.png',\n",
       "  './data/cropped/maria_sharapova\\\\maria_sharapova15.png',\n",
       "  './data/cropped/maria_sharapova\\\\maria_sharapova16.png',\n",
       "  './data/cropped/maria_sharapova\\\\maria_sharapova17.png',\n",
       "  './data/cropped/maria_sharapova\\\\maria_sharapova18.png',\n",
       "  './data/cropped/maria_sharapova\\\\maria_sharapova19.png',\n",
       "  './data/cropped/maria_sharapova\\\\maria_sharapova2.png',\n",
       "  './data/cropped/maria_sharapova\\\\maria_sharapova20.png',\n",
       "  './data/cropped/maria_sharapova\\\\maria_sharapova21.png',\n",
       "  './data/cropped/maria_sharapova\\\\maria_sharapova22.png',\n",
       "  './data/cropped/maria_sharapova\\\\maria_sharapova23.png',\n",
       "  './data/cropped/maria_sharapova\\\\maria_sharapova24.png',\n",
       "  './data/cropped/maria_sharapova\\\\maria_sharapova25.png',\n",
       "  './data/cropped/maria_sharapova\\\\maria_sharapova26.png',\n",
       "  './data/cropped/maria_sharapova\\\\maria_sharapova27.png',\n",
       "  './data/cropped/maria_sharapova\\\\maria_sharapova28.png',\n",
       "  './data/cropped/maria_sharapova\\\\maria_sharapova29.png',\n",
       "  './data/cropped/maria_sharapova\\\\maria_sharapova3.png',\n",
       "  './data/cropped/maria_sharapova\\\\maria_sharapova30.png',\n",
       "  './data/cropped/maria_sharapova\\\\maria_sharapova31.png',\n",
       "  './data/cropped/maria_sharapova\\\\maria_sharapova32.png',\n",
       "  './data/cropped/maria_sharapova\\\\maria_sharapova33.png',\n",
       "  './data/cropped/maria_sharapova\\\\maria_sharapova34.png',\n",
       "  './data/cropped/maria_sharapova\\\\maria_sharapova35.png',\n",
       "  './data/cropped/maria_sharapova\\\\maria_sharapova4.png',\n",
       "  './data/cropped/maria_sharapova\\\\maria_sharapova5.png',\n",
       "  './data/cropped/maria_sharapova\\\\maria_sharapova6.png',\n",
       "  './data/cropped/maria_sharapova\\\\maria_sharapova7.png',\n",
       "  './data/cropped/maria_sharapova\\\\maria_sharapova8.png',\n",
       "  './data/cropped/maria_sharapova\\\\maria_sharapova9.png'],\n",
       " 'roger_federer': ['./data/cropped/roger_federer\\\\roger_federer1.png',\n",
       "  './data/cropped/roger_federer\\\\roger_federer10.png',\n",
       "  './data/cropped/roger_federer\\\\roger_federer11.png',\n",
       "  './data/cropped/roger_federer\\\\roger_federer12.png',\n",
       "  './data/cropped/roger_federer\\\\roger_federer13.png',\n",
       "  './data/cropped/roger_federer\\\\roger_federer14.png',\n",
       "  './data/cropped/roger_federer\\\\roger_federer15.png',\n",
       "  './data/cropped/roger_federer\\\\roger_federer16.png',\n",
       "  './data/cropped/roger_federer\\\\roger_federer17.png',\n",
       "  './data/cropped/roger_federer\\\\roger_federer18.png',\n",
       "  './data/cropped/roger_federer\\\\roger_federer19.png',\n",
       "  './data/cropped/roger_federer\\\\roger_federer2.png',\n",
       "  './data/cropped/roger_federer\\\\roger_federer20.png',\n",
       "  './data/cropped/roger_federer\\\\roger_federer21.png',\n",
       "  './data/cropped/roger_federer\\\\roger_federer22.png',\n",
       "  './data/cropped/roger_federer\\\\roger_federer23.png',\n",
       "  './data/cropped/roger_federer\\\\roger_federer24.png',\n",
       "  './data/cropped/roger_federer\\\\roger_federer25.png',\n",
       "  './data/cropped/roger_federer\\\\roger_federer26.png',\n",
       "  './data/cropped/roger_federer\\\\roger_federer27.png',\n",
       "  './data/cropped/roger_federer\\\\roger_federer28.png',\n",
       "  './data/cropped/roger_federer\\\\roger_federer29.png',\n",
       "  './data/cropped/roger_federer\\\\roger_federer3.png',\n",
       "  './data/cropped/roger_federer\\\\roger_federer30.png',\n",
       "  './data/cropped/roger_federer\\\\roger_federer4.png',\n",
       "  './data/cropped/roger_federer\\\\roger_federer5.png',\n",
       "  './data/cropped/roger_federer\\\\roger_federer6.png',\n",
       "  './data/cropped/roger_federer\\\\roger_federer7.png',\n",
       "  './data/cropped/roger_federer\\\\roger_federer8.png',\n",
       "  './data/cropped/roger_federer\\\\roger_federer9.png'],\n",
       " 'serena_williams': ['./data/cropped/serena_williams\\\\serena_williams1.png',\n",
       "  './data/cropped/serena_williams\\\\serena_williams10.png',\n",
       "  './data/cropped/serena_williams\\\\serena_williams11.png',\n",
       "  './data/cropped/serena_williams\\\\serena_williams12.png',\n",
       "  './data/cropped/serena_williams\\\\serena_williams13.png',\n",
       "  './data/cropped/serena_williams\\\\serena_williams14.png',\n",
       "  './data/cropped/serena_williams\\\\serena_williams15.png',\n",
       "  './data/cropped/serena_williams\\\\serena_williams16.png',\n",
       "  './data/cropped/serena_williams\\\\serena_williams17.png',\n",
       "  './data/cropped/serena_williams\\\\serena_williams18.png',\n",
       "  './data/cropped/serena_williams\\\\serena_williams19.png',\n",
       "  './data/cropped/serena_williams\\\\serena_williams2.png',\n",
       "  './data/cropped/serena_williams\\\\serena_williams20.png',\n",
       "  './data/cropped/serena_williams\\\\serena_williams21.png',\n",
       "  './data/cropped/serena_williams\\\\serena_williams22.png',\n",
       "  './data/cropped/serena_williams\\\\serena_williams23.png',\n",
       "  './data/cropped/serena_williams\\\\serena_williams24.png',\n",
       "  './data/cropped/serena_williams\\\\serena_williams25.png',\n",
       "  './data/cropped/serena_williams\\\\serena_williams26.png',\n",
       "  './data/cropped/serena_williams\\\\serena_williams27.png',\n",
       "  './data/cropped/serena_williams\\\\serena_williams28.png',\n",
       "  './data/cropped/serena_williams\\\\serena_williams29.png',\n",
       "  './data/cropped/serena_williams\\\\serena_williams3.png',\n",
       "  './data/cropped/serena_williams\\\\serena_williams30.png',\n",
       "  './data/cropped/serena_williams\\\\serena_williams31.png',\n",
       "  './data/cropped/serena_williams\\\\serena_williams32.png',\n",
       "  './data/cropped/serena_williams\\\\serena_williams33.png',\n",
       "  './data/cropped/serena_williams\\\\serena_williams34.png',\n",
       "  './data/cropped/serena_williams\\\\serena_williams35.png',\n",
       "  './data/cropped/serena_williams\\\\serena_williams4.png',\n",
       "  './data/cropped/serena_williams\\\\serena_williams5.png',\n",
       "  './data/cropped/serena_williams\\\\serena_williams6.png',\n",
       "  './data/cropped/serena_williams\\\\serena_williams7.png',\n",
       "  './data/cropped/serena_williams\\\\serena_williams8.png',\n",
       "  './data/cropped/serena_williams\\\\serena_williams9.png'],\n",
       " 'virat_kohli': ['./data/cropped/virat_kohli\\\\virat_kohli1.png',\n",
       "  './data/cropped/virat_kohli\\\\virat_kohli10.png',\n",
       "  './data/cropped/virat_kohli\\\\virat_kohli11.png',\n",
       "  './data/cropped/virat_kohli\\\\virat_kohli12.png',\n",
       "  './data/cropped/virat_kohli\\\\virat_kohli13.png',\n",
       "  './data/cropped/virat_kohli\\\\virat_kohli14.png',\n",
       "  './data/cropped/virat_kohli\\\\virat_kohli15.png',\n",
       "  './data/cropped/virat_kohli\\\\virat_kohli16.png',\n",
       "  './data/cropped/virat_kohli\\\\virat_kohli17.png',\n",
       "  './data/cropped/virat_kohli\\\\virat_kohli18.png',\n",
       "  './data/cropped/virat_kohli\\\\virat_kohli19.png',\n",
       "  './data/cropped/virat_kohli\\\\virat_kohli2.png',\n",
       "  './data/cropped/virat_kohli\\\\virat_kohli20.png',\n",
       "  './data/cropped/virat_kohli\\\\virat_kohli21.png',\n",
       "  './data/cropped/virat_kohli\\\\virat_kohli22.png',\n",
       "  './data/cropped/virat_kohli\\\\virat_kohli23.png',\n",
       "  './data/cropped/virat_kohli\\\\virat_kohli24.png',\n",
       "  './data/cropped/virat_kohli\\\\virat_kohli25.png',\n",
       "  './data/cropped/virat_kohli\\\\virat_kohli26.png',\n",
       "  './data/cropped/virat_kohli\\\\virat_kohli27.png',\n",
       "  './data/cropped/virat_kohli\\\\virat_kohli28.png',\n",
       "  './data/cropped/virat_kohli\\\\virat_kohli29.png',\n",
       "  './data/cropped/virat_kohli\\\\virat_kohli3.png',\n",
       "  './data/cropped/virat_kohli\\\\virat_kohli30.png',\n",
       "  './data/cropped/virat_kohli\\\\virat_kohli31.png',\n",
       "  './data/cropped/virat_kohli\\\\virat_kohli32.png',\n",
       "  './data/cropped/virat_kohli\\\\virat_kohli33.png',\n",
       "  './data/cropped/virat_kohli\\\\virat_kohli34.png',\n",
       "  './data/cropped/virat_kohli\\\\virat_kohli35.png',\n",
       "  './data/cropped/virat_kohli\\\\virat_kohli36.png',\n",
       "  './data/cropped/virat_kohli\\\\virat_kohli37.png',\n",
       "  './data/cropped/virat_kohli\\\\virat_kohli38.png',\n",
       "  './data/cropped/virat_kohli\\\\virat_kohli39.png',\n",
       "  './data/cropped/virat_kohli\\\\virat_kohli4.png',\n",
       "  './data/cropped/virat_kohli\\\\virat_kohli40.png',\n",
       "  './data/cropped/virat_kohli\\\\virat_kohli41.png',\n",
       "  './data/cropped/virat_kohli\\\\virat_kohli42.png',\n",
       "  './data/cropped/virat_kohli\\\\virat_kohli43.png',\n",
       "  './data/cropped/virat_kohli\\\\virat_kohli44.png',\n",
       "  './data/cropped/virat_kohli\\\\virat_kohli45.png',\n",
       "  './data/cropped/virat_kohli\\\\virat_kohli46.png',\n",
       "  './data/cropped/virat_kohli\\\\virat_kohli47.png',\n",
       "  './data/cropped/virat_kohli\\\\virat_kohli48.png',\n",
       "  './data/cropped/virat_kohli\\\\virat_kohli5.png',\n",
       "  './data/cropped/virat_kohli\\\\virat_kohli6.png',\n",
       "  './data/cropped/virat_kohli\\\\virat_kohli7.png',\n",
       "  './data/cropped/virat_kohli\\\\virat_kohli8.png',\n",
       "  './data/cropped/virat_kohli\\\\virat_kohli9.png']}"
      ]
     },
     "execution_count": 179,
     "metadata": {},
     "output_type": "execute_result"
    }
   ],
   "source": [
    "celebrity_file_names_dict = {}\n",
    "for img_dir in cropped_image_dirs:\n",
    "    celebrity_name = img_dir.split('/')[-1]\n",
    "    file_list = []\n",
    "    for entry in os.scandir(img_dir):\n",
    "        file_list.append(entry.path)\n",
    "    celebrity_file_names_dict[celebrity_name] = file_list\n",
    "celebrity_file_names_dict"
   ]
  },
  {
   "cell_type": "code",
   "execution_count": 180,
   "metadata": {},
   "outputs": [
    {
     "data": {
      "text/plain": [
       "{'lionel_messi': 0,\n",
       " 'maria_sharapova': 1,\n",
       " 'roger_federer': 2,\n",
       " 'serena_williams': 3,\n",
       " 'virat_kohli': 4}"
      ]
     },
     "execution_count": 180,
     "metadata": {},
     "output_type": "execute_result"
    }
   ],
   "source": [
    "class_dict = {}\n",
    "count = 0\n",
    "for celebrity_name in celebrity_file_names_dict.keys():\n",
    "    class_dict[celebrity_name] = count\n",
    "    count = count + 1\n",
    "class_dict"
   ]
  },
  {
   "cell_type": "code",
   "execution_count": 181,
   "metadata": {},
   "outputs": [],
   "source": [
    "\n",
    "import numpy as np\n",
    "import pywt\n",
    "import cv2    \n",
    "\n",
    "def w2d(img, mode='haar', level=1):\n",
    "    imArray = img\n",
    "\n",
    "    imArray = cv2.cvtColor( imArray,cv2.COLOR_RGB2GRAY )\n",
    "    #convert to float\n",
    "    imArray =  np.float32(imArray)   \n",
    "    imArray /= 255;\n",
    "\n",
    "    coeffs=pywt.wavedec2(imArray, mode, level=level)\n",
    "\n",
    "\n",
    "    coeffs_H=list(coeffs)  \n",
    "    coeffs_H[0] *= 0;  \n",
    "\n",
    "    imArray_H=pywt.waverec2(coeffs_H, mode);\n",
    "    imArray_H *= 255;\n",
    "    imArray_H =  np.uint8(imArray_H)\n",
    "\n",
    "    return imArray_H"
   ]
  },
  {
   "cell_type": "code",
   "execution_count": 182,
   "metadata": {},
   "outputs": [],
   "source": [
    "X, y = [], []\n",
    "for celebrity_name, training_files in celebrity_file_names_dict.items():\n",
    "    for training_image in training_files:\n",
    "        img = cv2.imread(training_image)\n",
    "        scalled_raw_img = cv2.resize(img, (32, 32))\n",
    "        img_har = w2d(img,'db1',5)\n",
    "        scalled_img_har = cv2.resize(img_har, (32, 32))\n",
    "        combined_img = np.vstack((scalled_raw_img.reshape(32*32*3,1),scalled_img_har.reshape(32*32,1)))\n",
    "        X.append(combined_img)\n",
    "        y.append(class_dict[celebrity_name])"
   ]
  },
  {
   "cell_type": "code",
   "execution_count": 183,
   "metadata": {},
   "outputs": [
    {
     "data": {
      "text/plain": [
       "(187, 4096)"
      ]
     },
     "execution_count": 183,
     "metadata": {},
     "output_type": "execute_result"
    }
   ],
   "source": [
    "X = np.array(X).reshape(len(X),4096).astype(float)\n",
    "X.shape"
   ]
  },
  {
   "cell_type": "code",
   "execution_count": 184,
   "metadata": {},
   "outputs": [
    {
     "data": {
      "text/plain": [
       "{'lionel_messi': 0,\n",
       " 'maria_sharapova': 1,\n",
       " 'roger_federer': 2,\n",
       " 'serena_williams': 3,\n",
       " 'virat_kohli': 4}"
      ]
     },
     "execution_count": 184,
     "metadata": {},
     "output_type": "execute_result"
    }
   ],
   "source": [
    "class_dict"
   ]
  },
  {
   "cell_type": "code",
   "execution_count": 185,
   "metadata": {},
   "outputs": [
    {
     "data": {
      "text/plain": [
       "Counter({0: 39, 1: 35, 2: 30, 3: 35, 4: 48})"
      ]
     },
     "execution_count": 185,
     "metadata": {},
     "output_type": "execute_result"
    }
   ],
   "source": [
    "from collections import Counter\n",
    "Counter(y)"
   ]
  },
  {
   "cell_type": "markdown",
   "metadata": {},
   "source": [
    "# Modeling"
   ]
  },
  {
   "cell_type": "code",
   "execution_count": 186,
   "metadata": {},
   "outputs": [],
   "source": [
    "from sklearn.preprocessing import StandardScaler\n",
    "X = StandardScaler().fit(X).transform(X)"
   ]
  },
  {
   "cell_type": "code",
   "execution_count": 187,
   "metadata": {},
   "outputs": [],
   "source": [
    "from sklearn.model_selection import train_test_split\n",
    "\n",
    "X_train, X_test, y_train, y_test = train_test_split(X,y, test_size=0.2, random_state=10)\n"
   ]
  },
  {
   "cell_type": "code",
   "execution_count": 188,
   "metadata": {},
   "outputs": [],
   "source": [
    "\n",
    "from sklearn.naive_bayes import GaussianNB\n",
    "\n",
    "from sklearn.ensemble import RandomForestClassifier, AdaBoostClassifier\n",
    "from sklearn.tree import DecisionTreeClassifier\n",
    "from sklearn.svm import SVC\n",
    "from sklearn.neighbors import KNeighborsClassifier\n",
    "\n",
    "from sklearn.linear_model import LogisticRegression\n",
    "from sklearn.model_selection import cross_val_score\n",
    "from xgboost import XGBClassifier\n",
    "from sklearn.model_selection import GridSearchCV\n"
   ]
  },
  {
   "cell_type": "markdown",
   "metadata": {},
   "source": [
    "## Hyper Parameter Tunning"
   ]
  },
  {
   "cell_type": "code",
   "execution_count": 189,
   "metadata": {},
   "outputs": [],
   "source": [
    "scores=[]\n",
    "best_estimators = {}\n",
    "\n",
    "\n",
    "model_params = {  \n",
    "     'LOGISTIC_REGRESSION': {\n",
    "        'model': LogisticRegression(max_iter=500),\n",
    "        'params': {\n",
    "            'C': [1,5,10],\n",
    "            'solver' : [ 'liblinear', 'lbfgs'],\n",
    "            'multi_class' : ['auto', 'ovr' ]\n",
    "            \n",
    "            \n",
    "        }\n",
    "    },\n",
    "    \n",
    "        \n",
    "    'SVM': {\n",
    "        'model': SVC(),\n",
    "        'params': {\n",
    "             'C': [1,50,100],\n",
    "             'kernel': ['rbf','linear'],\n",
    "             'gamma': ['auto', 'scale']\n",
    "        }\n",
    "    },\n",
    "       \n",
    "    'RANDOM_FOREST':{\n",
    "        'model' : RandomForestClassifier(),\n",
    "        'params': {\n",
    "            'n_estimators':[70,75,90],\n",
    "            'criterion': ['entropy']\n",
    "\n",
    "        }\n",
    "    }\n",
    "}"
   ]
  },
  {
   "cell_type": "code",
   "execution_count": 190,
   "metadata": {},
   "outputs": [
    {
     "name": "stdout",
     "output_type": "stream",
     "text": [
      "LogisticRegression(C=1.0, class_weight=None, dual=False, fit_intercept=True,\n",
      "                   intercept_scaling=1, l1_ratio=None, max_iter=500,\n",
      "                   multi_class='auto', n_jobs=None, penalty='l2',\n",
      "                   random_state=None, solver='lbfgs', tol=0.0001, verbose=0,\n",
      "                   warm_start=False) {'C': [1, 5, 10], 'solver': ['liblinear', 'lbfgs'], 'multi_class': ['auto', 'ovr']}\n",
      "0.441305144627889 minutes\n",
      "SVC(C=1.0, break_ties=False, cache_size=200, class_weight=None, coef0=0.0,\n",
      "    decision_function_shape='ovr', degree=3, gamma='scale', kernel='rbf',\n",
      "    max_iter=-1, probability=False, random_state=None, shrinking=True,\n",
      "    tol=0.001, verbose=False) {'C': [1, 50, 100], 'kernel': ['rbf', 'linear'], 'gamma': ['auto', 'scale']}\n",
      "0.092400594552358 minutes\n",
      "RandomForestClassifier(bootstrap=True, ccp_alpha=0.0, class_weight=None,\n",
      "                       criterion='gini', max_depth=None, max_features='auto',\n",
      "                       max_leaf_nodes=None, max_samples=None,\n",
      "                       min_impurity_decrease=0.0, min_impurity_split=None,\n",
      "                       min_samples_leaf=1, min_samples_split=2,\n",
      "                       min_weight_fraction_leaf=0.0, n_estimators=100,\n",
      "                       n_jobs=None, oob_score=False, random_state=None,\n",
      "                       verbose=0, warm_start=False) {'n_estimators': [70, 75, 90], 'criterion': ['entropy']}\n",
      "0.08883224328358968 minutes\n"
     ]
    }
   ],
   "source": [
    "import time\n",
    "\n",
    "\n",
    "for model_name, mp in model_params.items():\n",
    "    clf = GridSearchCV(mp['model'], mp['params'], cv=5, return_train_score=False)\n",
    "    print(mp['model'], mp['params'])\n",
    "    start_time = time.time()\n",
    "    \n",
    "    clf.fit(X_train, y_train)    \n",
    "    \n",
    "\n",
    "    scores.append({\n",
    "        'model': model_name,\n",
    "        'best_score': clf.best_score_,\n",
    "        'best_params': str(clf.best_params_)\n",
    "    })\n",
    "    best_estimators[model_name] = clf.best_estimator_\n",
    "    print('{} minutes'.format((time.time() - start_time)/60))\n",
    "\n"
   ]
  },
  {
   "cell_type": "code",
   "execution_count": 191,
   "metadata": {},
   "outputs": [
    {
     "data": {
      "text/html": [
       "<div>\n",
       "<style scoped>\n",
       "    .dataframe tbody tr th:only-of-type {\n",
       "        vertical-align: middle;\n",
       "    }\n",
       "\n",
       "    .dataframe tbody tr th {\n",
       "        vertical-align: top;\n",
       "    }\n",
       "\n",
       "    .dataframe thead th {\n",
       "        text-align: right;\n",
       "    }\n",
       "</style>\n",
       "<table border=\"1\" class=\"dataframe\">\n",
       "  <thead>\n",
       "    <tr style=\"text-align: right;\">\n",
       "      <th></th>\n",
       "      <th>model</th>\n",
       "      <th>best_score</th>\n",
       "      <th>best_params</th>\n",
       "    </tr>\n",
       "  </thead>\n",
       "  <tbody>\n",
       "    <tr>\n",
       "      <th>0</th>\n",
       "      <td>LOGISTIC_REGRESSION</td>\n",
       "      <td>0.771494</td>\n",
       "      <td>{'C': 1, 'multi_class': 'auto', 'solver': 'lbf...</td>\n",
       "    </tr>\n",
       "    <tr>\n",
       "      <th>1</th>\n",
       "      <td>SVM</td>\n",
       "      <td>0.737701</td>\n",
       "      <td>{'C': 1, 'gamma': 'auto', 'kernel': 'linear'}</td>\n",
       "    </tr>\n",
       "    <tr>\n",
       "      <th>2</th>\n",
       "      <td>RANDOM_FOREST</td>\n",
       "      <td>0.711034</td>\n",
       "      <td>{'criterion': 'entropy', 'n_estimators': 70}</td>\n",
       "    </tr>\n",
       "  </tbody>\n",
       "</table>\n",
       "</div>"
      ],
      "text/plain": [
       "                 model  best_score  \\\n",
       "0  LOGISTIC_REGRESSION    0.771494   \n",
       "1                  SVM    0.737701   \n",
       "2        RANDOM_FOREST    0.711034   \n",
       "\n",
       "                                         best_params  \n",
       "0  {'C': 1, 'multi_class': 'auto', 'solver': 'lbf...  \n",
       "1      {'C': 1, 'gamma': 'auto', 'kernel': 'linear'}  \n",
       "2       {'criterion': 'entropy', 'n_estimators': 70}  "
      ]
     },
     "execution_count": 191,
     "metadata": {},
     "output_type": "execute_result"
    }
   ],
   "source": [
    "import pandas as pd    \n",
    "df = pd.DataFrame(scores,columns=['model','best_score','best_params'])\n",
    "df = df.sort_values(by='best_score',ascending=False)\n",
    "# df.drop_duplicates(inplace=True)\n",
    "df"
   ]
  },
  {
   "cell_type": "markdown",
   "metadata": {},
   "source": [
    " ## Evaluation"
   ]
  },
  {
   "cell_type": "code",
   "execution_count": 192,
   "metadata": {},
   "outputs": [
    {
     "data": {
      "text/plain": [
       "0.8421052631578947"
      ]
     },
     "execution_count": 192,
     "metadata": {},
     "output_type": "execute_result"
    }
   ],
   "source": [
    "best_estimators['SVM'].score(X_test,y_test)"
   ]
  },
  {
   "cell_type": "code",
   "execution_count": 193,
   "metadata": {},
   "outputs": [
    {
     "data": {
      "text/plain": [
       "0.868421052631579"
      ]
     },
     "execution_count": 193,
     "metadata": {},
     "output_type": "execute_result"
    }
   ],
   "source": [
    "best_estimators['LOGISTIC_REGRESSION'].score(X_test,y_test)"
   ]
  },
  {
   "cell_type": "code",
   "execution_count": 195,
   "metadata": {},
   "outputs": [
    {
     "data": {
      "text/plain": [
       "0.7631578947368421"
      ]
     },
     "execution_count": 195,
     "metadata": {},
     "output_type": "execute_result"
    }
   ],
   "source": [
    "best_estimators['RANDOM_FOREST'].score(X_test,y_test)"
   ]
  },
  {
   "cell_type": "code",
   "execution_count": 363,
   "metadata": {},
   "outputs": [
    {
     "data": {
      "text/plain": [
       "RandomForestClassifier(bootstrap=True, ccp_alpha=0.0, class_weight=None,\n",
       "                       criterion='entropy', max_depth=4, max_features='auto',\n",
       "                       max_leaf_nodes=None, max_samples=None,\n",
       "                       min_impurity_decrease=0.0, min_impurity_split=None,\n",
       "                       min_samples_leaf=1, min_samples_split=2,\n",
       "                       min_weight_fraction_leaf=0.0, n_estimators=100,\n",
       "                       n_jobs=None, oob_score=False, random_state=None,\n",
       "                       verbose=0, warm_start=False)"
      ]
     },
     "execution_count": 363,
     "metadata": {},
     "output_type": "execute_result"
    }
   ],
   "source": [
    "best_clf = best_estimators['RANDOM_FOREST']\n",
    "best_clf"
   ]
  },
  {
   "cell_type": "code",
   "execution_count": 364,
   "metadata": {},
   "outputs": [
    {
     "name": "stdout",
     "output_type": "stream",
     "text": [
      "              precision    recall  f1-score   support\n",
      "\n",
      "           0       0.95      1.00      0.98        20\n",
      "           1       1.00      0.86      0.92         7\n",
      "\n",
      "    accuracy                           0.96        27\n",
      "   macro avg       0.98      0.93      0.95        27\n",
      "weighted avg       0.96      0.96      0.96        27\n",
      "\n"
     ]
    }
   ],
   "source": [
    "from sklearn.metrics import classification_report\n",
    "print(classification_report(y_test,best_clf.predict(X_test)))"
   ]
  },
  {
   "cell_type": "code",
   "execution_count": 365,
   "metadata": {},
   "outputs": [
    {
     "data": {
      "text/plain": [
       "array([[20,  0],\n",
       "       [ 1,  6]], dtype=int64)"
      ]
     },
     "execution_count": 365,
     "metadata": {},
     "output_type": "execute_result"
    }
   ],
   "source": [
    "from sklearn.metrics import confusion_matrix\n",
    "cm = confusion_matrix(y_test, best_clf.predict(X_test))\n",
    "cm"
   ]
  },
  {
   "cell_type": "code",
   "execution_count": 106,
   "metadata": {},
   "outputs": [
    {
     "data": {
      "text/plain": [
       "Text(69.0, 0.5, 'Truth')"
      ]
     },
     "execution_count": 106,
     "metadata": {},
     "output_type": "execute_result"
    },
    {
     "data": {
      "image/png": "[encoded data removed]",
      "text/plain": [
       "<Figure size 720x504 with 2 Axes>"
      ]
     },
     "metadata": {
      "needs_background": "light"
     },
     "output_type": "display_data"
    }
   ],
   "source": [
    "import seaborn as sns \n",
    "plt.figure(figsize=(10,7))\n",
    "sns.heatmap(cm,annot=True)\n",
    "plt.xlabel('Predicted')\n",
    "plt.ylabel('Truth')"
   ]
  },
  {
   "cell_type": "code",
   "execution_count": 105,
   "metadata": {},
   "outputs": [
    {
     "data": {
      "image/png": "[encoded data removed]",
      "text/plain": [
       "<Figure size 1080x1080 with 2 Axes>"
      ]
     },
     "metadata": {
      "needs_background": "light"
     },
     "output_type": "display_data"
    }
   ],
   "source": [
    "cm=[[20,0,20,0,20,0,20,0,20,0,20,0,20,0,20,0,20,0],\n",
    "    [20,0,20,0,20,0,20,0,20,0,20,0,20,0,20,0,20,0],\n",
    "   [20,0,20,0,20,0,20,0,20,0,20,0,20,0,20,0,20,0],\n",
    "   [20,0,20,0,20,0,20,0,20,0,20,0,20,0,20,0,20,0],\n",
    "   [20,0,20,0,20,0,20,0,20,0,20,0,20,0,20,0,20,0],\n",
    "   [20,0,20,0,20,0,20,0,20,0,20,0,20,0,20,0,20,0],\n",
    "   [20,0,20,0,20,0,20,0,20,0,20,0,20,0,20,0,20,0],\n",
    "   [20,0,20,0,20,0,20,0,20,0,20,0,20,0,20,0,20,0],\n",
    "   [20,0,20,0,20,0,20,0,20,0,20,0,20,0,20,0,20,0],\n",
    "   [20,0,20,0,20,0,20,0,20,0,20,0,20,0,20,0,20,0],\n",
    "   [20,0,20,0,20,0,20,0,20,0,20,0,20,0,20,0,20,0],\n",
    "   [20,0,20,0,20,0,20,0,20,0,20,0,20,0,20,0,20,0],\n",
    "   [20,0,20,0,20,0,20,0,20,0,20,0,20,0,20,0,20,0],\n",
    "   [20,0,20,0,20,0,20,0,20,0,20,0,20,0,20,0,20,0],\n",
    "   [20,0,20,0,20,0,20,0,20,0,20,0,20,0,20,0,20,0],\n",
    "   [20,0,20,0,20,0,20,0,20,0,20,0,20,0,20,0,20,0],\n",
    "   [20,0,20,0,20,0,20,0,20,0,20,0,20,0,20,0,20,0],\n",
    "   [20,0,20,0,20,0,20,0,20,0,20,0,20,0,20,0,20,0]]\n",
    "import seaborn as sns \n",
    "fig, ax = plt.subplots(figsize=(15,15))\n",
    "\n",
    "g = sns.heatmap(cm,annot=True,ax=ax)\n",
    "g.set_yticklabels(g.get_yticklabels(), rotation = 0, fontsize = 12)\n",
    "g.set_xticklabels(g.get_xticklabels(), rotation = 45, fontsize = 12)\n",
    "ax.xaxis.set_ticklabels(class_dict.keys()); ax.yaxis.set_ticklabels(class_dict.keys());\n",
    "ax.set_xlabel('Predicted labels');ax.set_ylabel('True labels'); \n"
   ]
  },
  {
   "cell_type": "code",
   "execution_count": 92,
   "metadata": {},
   "outputs": [
    {
     "data": {
      "text/plain": [
       "{'Aishwarya Rai': 0,\n",
       " 'Akshay kumar': 1,\n",
       " 'Alia Bhat': 2,\n",
       " 'Anushka Sharma': 3,\n",
       " 'Depika': 4,\n",
       " 'Hrithik Roshan': 5,\n",
       " 'Jacqueline Fernandez': 6,\n",
       " 'Kareena Kapoor': 7,\n",
       " 'Katrina Kaif': 8,\n",
       " 'Nawazuddin Siddiqui': 9,\n",
       " 'Priyanka Chopra': 10,\n",
       " 'Ranbir Kapoor': 11,\n",
       " 'Ranveer Singh': 12,\n",
       " 'Shahrukh Khan': 13,\n",
       " 'Shraddha Kapoor': 14,\n",
       " 'Sonakshi Sinha': 15,\n",
       " 'Tiger Shroff': 16,\n",
       " 'Varun Dhawan': 17}"
      ]
     },
     "execution_count": 92,
     "metadata": {},
     "output_type": "execute_result"
    }
   ],
   "source": [
    "class_dict"
   ]
  },
  {
   "cell_type": "markdown",
   "metadata": {},
   "source": [
    "## Save Model"
   ]
  },
  {
   "cell_type": "code",
   "execution_count": 368,
   "metadata": {},
   "outputs": [
    {
     "data": {
      "text/plain": [
       "['saved_model.pkl']"
      ]
     },
     "execution_count": 368,
     "metadata": {},
     "output_type": "execute_result"
    }
   ],
   "source": [
    "import joblib\n",
    "joblib.dump(best_clf, 'saved_model.pkl')"
   ]
  },
  {
   "cell_type": "markdown",
   "metadata": {},
   "source": [
    "## Save Class"
   ]
  },
  {
   "cell_type": "code",
   "execution_count": 370,
   "metadata": {},
   "outputs": [],
   "source": [
    "\n",
    "import json\n",
    "with open(\"class_dictionary.json\",\"w\") as f:\n",
    "    f.write(json.dumps(class_dict))"
   ]
  }
 ],
 "metadata": {
  "kernelspec": {
   "display_name": "Python 3",
   "language": "python",
   "name": "python3"
  },
  "language_info": {
   "codemirror_mode": {
    "name": "ipython",
    "version": 3
   },
   "file_extension": ".py",
   "mimetype": "text/x-python",
   "name": "python",
   "nbconvert_exporter": "python",
   "pygments_lexer": "ipython3",
   "version": "3.7.6"
  }
 },
 "nbformat": 4,
 "nbformat_minor": 4
}
